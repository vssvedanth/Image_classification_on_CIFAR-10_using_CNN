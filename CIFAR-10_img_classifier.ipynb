{
 "cells": [
  {
   "cell_type": "code",
   "execution_count": 2,
   "id": "V3C1H_hwDoMc",
   "metadata": {
    "colab": {
     "base_uri": "https://localhost:8080/"
    },
    "executionInfo": {
     "elapsed": 807,
     "status": "ok",
     "timestamp": 1696242020895,
     "user": {
      "displayName": "MUVVA JAYA GOPI SRAVAN",
      "userId": "10993799838053184214"
     },
     "user_tz": -330
    },
    "id": "V3C1H_hwDoMc",
    "outputId": "78b12022-6503-4df4-9457-7056c5450f4f"
   },
   "outputs": [
    {
     "name": "stdout",
     "output_type": "stream",
     "text": [
      "Invalid combination of input arguments. Please run 'nvidia-smi -h' for help.\n",
      "\n"
     ]
    }
   ],
   "source": [
    "!nvidia-smi  # checking for GPU"
   ]
  },
  {
   "cell_type": "markdown",
   "id": "fjUONCti0UCT",
   "metadata": {
    "id": "fjUONCti0UCT"
   },
   "source": [
    "### **Importing all required libraries**"
   ]
  },
  {
   "cell_type": "code",
   "execution_count": 4,
   "id": "0f9a093f-c203-4c64-9c6a-6bf3929f0ac4",
   "metadata": {
    "colab": {
     "base_uri": "https://localhost:8080/"
    },
    "executionInfo": {
     "elapsed": 6428,
     "status": "ok",
     "timestamp": 1696242027322,
     "user": {
      "displayName": "MUVVA JAYA GOPI SRAVAN",
      "userId": "10993799838053184214"
     },
     "user_tz": -330
    },
    "id": "0f9a093f-c203-4c64-9c6a-6bf3929f0ac4",
    "outputId": "948ab0ba-6d81-4fd3-9a55-3b5aa381a712"
   },
   "outputs": [
    {
     "name": "stdout",
     "output_type": "stream",
     "text": [
      "\n"
     ]
    }
   ],
   "source": [
    "import tensorflow as tf\n",
    "import numpy as np\n",
    "import math as m\n",
    "import seaborn as sb\n",
    "import random\n",
    "import tensorboard\n",
    "import matplotlib.pyplot as plt\n",
    "import datetime,os\n",
    "\n",
    "from tensorflow.python.client import device_lib\n",
    "print(tf.test.gpu_device_name())\n"
   ]
  },
  {
   "cell_type": "markdown",
   "id": "lsYPu3Ju03_H",
   "metadata": {
    "id": "lsYPu3Ju03_H"
   },
   "source": [
    "### **Using GPU**"
   ]
  },
  {
   "cell_type": "code",
   "execution_count": 5,
   "id": "Qu8BLo4MFH-4",
   "metadata": {
    "colab": {
     "base_uri": "https://localhost:8080/"
    },
    "executionInfo": {
     "elapsed": 6,
     "status": "ok",
     "timestamp": 1696242027322,
     "user": {
      "displayName": "MUVVA JAYA GOPI SRAVAN",
      "userId": "10993799838053184214"
     },
     "user_tz": -330
    },
    "id": "Qu8BLo4MFH-4",
    "outputId": "ad2bdfa1-31f6-4449-f3fa-c07f99c6c046"
   },
   "outputs": [
    {
     "name": "stdout",
     "output_type": "stream",
     "text": [
      "Num GPUs Available:  0\n"
     ]
    }
   ],
   "source": [
    "print(\"Num GPUs Available: \", len(tf.config.list_physical_devices('GPU')))\n",
    "gpus = tf.config.list_physical_devices('GPU')\n",
    "if gpus:\n",
    "  # Restrict TensorFlow to only use the first GPU\n",
    "  try:\n",
    "    tf.config.set_visible_devices(gpus[0], 'GPU')\n",
    "    logical_gpus = tf.config.list_logical_devices('GPU')\n",
    "    print(len(gpus), \"Physical GPUs,\", len(logical_gpus), \"Logical GPU\")\n",
    "  except RuntimeError as e:\n",
    "    # Visible devices must be set before GPUs have been initialized\n",
    "    print(e)"
   ]
  },
  {
   "cell_type": "markdown",
   "id": "oh1J5BBB2BAB",
   "metadata": {
    "id": "oh1J5BBB2BAB"
   },
   "source": [
    "### **Downloading CIFAR-10 Data and preparing train and validation dataset**"
   ]
  },
  {
   "cell_type": "code",
   "execution_count": 6,
   "id": "04a99e6c-0d0c-4245-8cca-4f412d4e8066",
   "metadata": {
    "colab": {
     "base_uri": "https://localhost:8080/"
    },
    "executionInfo": {
     "elapsed": 3305,
     "status": "ok",
     "timestamp": 1696257007812,
     "user": {
      "displayName": "MUVVA JAYA GOPI SRAVAN",
      "userId": "10993799838053184214"
     },
     "user_tz": -330
    },
    "id": "04a99e6c-0d0c-4245-8cca-4f412d4e8066",
    "outputId": "d7d70b2b-c5a0-4016-e343-baf14334409f"
   },
   "outputs": [
    {
     "name": "stdout",
     "output_type": "stream",
     "text": [
      "50000 10000\n"
     ]
    }
   ],
   "source": [
    "Train_data, Validation_data = tf.keras.datasets.cifar10.load_data()\n",
    "print(len(Train_data[0]), len(Validation_data[0]))\n",
    "train_x, train_y = Train_data\n",
    "val_x, val_y = Validation_data\n",
    "\n",
    "train_x, val_x = train_x / 255.0, val_x / 255.0  # normalizing pixel values of image"
   ]
  },
  {
   "cell_type": "markdown",
   "id": "k1Hk7jtY2bty",
   "metadata": {
    "id": "k1Hk7jtY2bty"
   },
   "source": [
    "### **Category of images in CIFAR-10 data**"
   ]
  },
  {
   "cell_type": "code",
   "execution_count": 7,
   "id": "IKO1IdK52aEs",
   "metadata": {
    "executionInfo": {
     "elapsed": 5,
     "status": "ok",
     "timestamp": 1696242037854,
     "user": {
      "displayName": "MUVVA JAYA GOPI SRAVAN",
      "userId": "10993799838053184214"
     },
     "user_tz": -330
    },
    "id": "IKO1IdK52aEs"
   },
   "outputs": [],
   "source": [
    "classes = ('airplane',\n",
    "           'automobile',\n",
    "           'bird',\n",
    "           'cat',\n",
    "           'deer',\n",
    "           'dog',\n",
    "           'frog',\n",
    "           'horse',\n",
    "           'ship',\n",
    "           'truck')"
   ]
  },
  {
   "cell_type": "markdown",
   "id": "odkRNtLE2sei",
   "metadata": {
    "id": "odkRNtLE2sei"
   },
   "source": [
    "### **Displaying random images from training set**"
   ]
  },
  {
   "cell_type": "code",
   "execution_count": 8,
   "id": "0414a1e8-efd2-46eb-9c28-91989584899b",
   "metadata": {
    "colab": {
     "base_uri": "https://localhost:8080/",
     "height": 511
    },
    "executionInfo": {
     "elapsed": 1798,
     "status": "ok",
     "timestamp": 1696242039648,
     "user": {
      "displayName": "MUVVA JAYA GOPI SRAVAN",
      "userId": "10993799838053184214"
     },
     "user_tz": -330
    },
    "id": "0414a1e8-efd2-46eb-9c28-91989584899b",
    "outputId": "d59c081f-cb2f-4c1c-9dfb-ec93084b1f60"
   },
   "outputs": [
    {
     "data": {
      "image/png": "[encoded data removed]",
      "text/plain": [
       "<Figure size 360x432 with 4 Axes>"
      ]
     },
     "metadata": {
      "needs_background": "light"
     },
     "output_type": "display_data"
    }
   ],
   "source": [
    "def display_img(train_x,train_y,idx):\n",
    "    l = len(idx)\n",
    "    p = int(m.sqrt(l))\n",
    "    for i in range(l):\n",
    "        plt.subplot(p,p,i+1)\n",
    "        plt.imshow(train_x[idx[i]])\n",
    "        plt.title(classes[train_y[idx[i]][0]])\n",
    "    plt.show()\n",
    "\n",
    "idx1 = []\n",
    "for i in range(0, 4):\n",
    "    idx1.append(random.randint(0, len(train_x)))\n",
    "f = plt.figure(figsize=(5,6))\n",
    "display_img(train_x,train_y,idx1)"
   ]
  },
  {
   "cell_type": "markdown",
   "id": "oCLrRhh73hj7",
   "metadata": {
    "id": "oCLrRhh73hj7"
   },
   "source": [
    "### **Converting class vector into binary class matrix**"
   ]
  },
  {
   "cell_type": "code",
   "execution_count": 9,
   "id": "49f79d57-821f-4efb-b831-3c94a4362d49",
   "metadata": {
    "executionInfo": {
     "elapsed": 8,
     "status": "ok",
     "timestamp": 1696242039649,
     "user": {
      "displayName": "MUVVA JAYA GOPI SRAVAN",
      "userId": "10993799838053184214"
     },
     "user_tz": -330
    },
    "id": "49f79d57-821f-4efb-b831-3c94a4362d49"
   },
   "outputs": [],
   "source": [
    "y_train = tf.keras.utils.to_categorical(train_y, num_classes = 10)\n",
    "y_val = tf.keras.utils.to_categorical(val_y, num_classes = 10)"
   ]
  },
  {
   "cell_type": "markdown",
   "id": "IZ_4ga804M4p",
   "metadata": {
    "id": "IZ_4ga804M4p"
   },
   "source": [
    "### **Plotting loss and accuracy of training and validation data**"
   ]
  },
  {
   "cell_type": "code",
   "execution_count": 10,
   "id": "ID9fihsse6Pb",
   "metadata": {
    "executionInfo": {
     "elapsed": 515,
     "status": "ok",
     "timestamp": 1696242860580,
     "user": {
      "displayName": "MUVVA JAYA GOPI SRAVAN",
      "userId": "10993799838053184214"
     },
     "user_tz": -330
    },
    "id": "ID9fihsse6Pb"
   },
   "outputs": [],
   "source": [
    "\n",
    "def plot_analysis(m):\n",
    "  f = plt.figure(figsize=(9,5))\n",
    "\n",
    "  ax1 = f.add_subplot(121)\n",
    "\n",
    "  ax1.plot(m.history['loss'],color=\"#E74C3C\")\n",
    "  ax1.plot(m.history['val_loss'],color='#641E16')\n",
    "\n",
    "  plt.title('Loss comparison between Validation and Train Data set',fontsize=9)\n",
    "  plt.ylabel('Loss')\n",
    "  plt.xlabel('Epoch')\n",
    "  plt.legend(['Train', 'validation'], loc='upper right')\n",
    "\n",
    "  ax2 = f.add_subplot(122)\n",
    "\n",
    "  ax2.plot(m.history['accuracy'],color=\"#E74C3C\")\n",
    "  ax2.plot(m.history['val_accuracy'],color='#641E16')\n",
    "\n",
    "  plt.title('Accuracy comparison between Validation and Train Data set',fontsize=9)\n",
    "  plt.ylabel('Accuracy')\n",
    "  plt.xlabel('Epoch')\n",
    "  plt.legend(['Train', 'validation'], loc='upper right')\n",
    "  print(\"\\n\")\n",
    "  print(\"\\n\")\n",
    "  print(\"\\n\")\n",
    "  plt.show()"
   ]
  },
  {
   "cell_type": "markdown",
   "id": "BWo8RgAy4t5x",
   "metadata": {
    "id": "BWo8RgAy4t5x"
   },
   "source": [
    "### **Training model for two cases with and without data augmentation**"
   ]
  },
  {
   "cell_type": "code",
   "execution_count": null,
   "id": "31d76a42-5628-43bf-841d-e8a340ff939f",
   "metadata": {
    "colab": {
     "base_uri": "https://localhost:8080/",
     "height": 1000
    },
    "executionInfo": {
     "elapsed": 4391390,
     "status": "ok",
     "timestamp": 1696247258043,
     "user": {
      "displayName": "MUVVA JAYA GOPI SRAVAN",
      "userId": "10993799838053184214"
     },
     "user_tz": -330
    },
    "id": "31d76a42-5628-43bf-841d-e8a340ff939f",
    "outputId": "483fe621-1850-458b-c44f-c0efa14187bc"
   },
   "outputs": [
    {
     "name": "stdout",
     "output_type": "stream",
     "text": [
      "\n",
      "\n",
      "Training model before Data Augmentation\n",
      "\n",
      "Epoch 1/20\n",
      "1562/1562 - 77s - loss: 1.9580 - accuracy: 0.2505 - val_loss: 1.6883 - val_accuracy: 0.3642 - 77s/epoch - 49ms/step\n",
      "Epoch 2/20\n",
      "1562/1562 - 46s - loss: 1.6605 - accuracy: 0.3733 - val_loss: 1.5685 - val_accuracy: 0.4095 - 46s/epoch - 30ms/step\n",
      "Epoch 3/20\n",
      "1562/1562 - 41s - loss: 1.5201 - accuracy: 0.4391 - val_loss: 1.4058 - val_accuracy: 0.4883 - 41s/epoch - 26ms/step\n",
      "Epoch 4/20\n",
      "1562/1562 - 50s - loss: 1.4243 - accuracy: 0.4769 - val_loss: 1.3588 - val_accuracy: 0.5017 - 50s/epoch - 32ms/step\n",
      "Epoch 5/20\n",
      "1562/1562 - 45s - loss: 1.3492 - accuracy: 0.5060 - val_loss: 1.2669 - val_accuracy: 0.5381 - 45s/epoch - 29ms/step\n",
      "Epoch 6/20\n",
      "1562/1562 - 52s - loss: 1.2891 - accuracy: 0.5333 - val_loss: 1.2298 - val_accuracy: 0.5561 - 52s/epoch - 34ms/step\n",
      "Epoch 7/20\n",
      "1562/1562 - 79s - loss: 1.2311 - accuracy: 0.5564 - val_loss: 1.1973 - val_accuracy: 0.5637 - 79s/epoch - 51ms/step\n",
      "Epoch 8/20\n",
      "1562/1562 - 103s - loss: 1.1831 - accuracy: 0.5724 - val_loss: 1.1601 - val_accuracy: 0.5795 - 103s/epoch - 66ms/step\n",
      "Epoch 9/20\n",
      "1562/1562 - 90s - loss: 1.1382 - accuracy: 0.5887 - val_loss: 1.1474 - val_accuracy: 0.5884 - 90s/epoch - 58ms/step\n",
      "Epoch 10/20\n",
      "1562/1562 - 83s - loss: 1.0999 - accuracy: 0.6032 - val_loss: 1.1089 - val_accuracy: 0.6037 - 83s/epoch - 53ms/step\n",
      "Epoch 11/20\n",
      "1562/1562 - 68s - loss: 1.0595 - accuracy: 0.6217 - val_loss: 1.0687 - val_accuracy: 0.6185 - 68s/epoch - 43ms/step\n",
      "Epoch 12/20\n",
      "1562/1562 - 86s - loss: 1.0193 - accuracy: 0.6348 - val_loss: 1.0592 - val_accuracy: 0.6225 - 86s/epoch - 55ms/step\n",
      "Epoch 13/20\n",
      "1562/1562 - 92s - loss: 0.9827 - accuracy: 0.6507 - val_loss: 1.0511 - val_accuracy: 0.6261 - 92s/epoch - 59ms/step\n",
      "Epoch 14/20\n",
      "1562/1562 - 93s - loss: 0.9529 - accuracy: 0.6630 - val_loss: 1.0206 - val_accuracy: 0.6389 - 93s/epoch - 59ms/step\n",
      "Epoch 15/20\n",
      "1562/1562 - 96s - loss: 0.9194 - accuracy: 0.6744 - val_loss: 1.0083 - val_accuracy: 0.6459 - 96s/epoch - 62ms/step\n",
      "Epoch 16/20\n",
      "1562/1562 - 91s - loss: 0.8851 - accuracy: 0.6867 - val_loss: 1.0049 - val_accuracy: 0.6469 - 91s/epoch - 58ms/step\n",
      "Epoch 17/20\n",
      "1562/1562 - 105s - loss: 0.8556 - accuracy: 0.6983 - val_loss: 0.9934 - val_accuracy: 0.6515 - 105s/epoch - 67ms/step\n",
      "Epoch 18/20\n",
      "1562/1562 - 90s - loss: 0.8240 - accuracy: 0.7084 - val_loss: 1.0117 - val_accuracy: 0.6490 - 90s/epoch - 58ms/step\n",
      "Epoch 19/20\n",
      "1562/1562 - 99s - loss: 0.8008 - accuracy: 0.7182 - val_loss: 1.0007 - val_accuracy: 0.6520 - 99s/epoch - 64ms/step\n",
      "Epoch 20/20\n",
      "1562/1562 - 71s - loss: 0.7719 - accuracy: 0.7270 - val_loss: 0.9661 - val_accuracy: 0.6687 - 71s/epoch - 45ms/step\n",
      "\n",
      "\n",
      "\n",
      "\n",
      "\n",
      "\n"
     ]
    },
    {
     "data": {
      "image/png": "[encoded data removed]",
      "text/plain": [
       "<Figure size 648x360 with 2 Axes>"
      ]
     },
     "metadata": {
      "needs_background": "light"
     },
     "output_type": "display_data"
    },
    {
     "name": "stdout",
     "output_type": "stream",
     "text": [
      "\n",
      "\n",
      "Training model after Data Augmentation\n",
      "\n"
     ]
    },
    {
     "name": "stderr",
     "output_type": "stream",
     "text": [
      "C:\\Users\\vssve\\AppData\\Local\\Temp\\ipykernel_11156\\754196302.py:56: UserWarning: `Model.fit_generator` is deprecated and will be removed in a future version. Please use `Model.fit`, which supports generators.\n",
      "  m2    =   model.fit_generator(datagen.flow(train_x, y_train, batch_size=32),\n"
     ]
    },
    {
     "name": "stdout",
     "output_type": "stream",
     "text": [
      "Epoch 1/120\n",
      "1562/1562 - 113s - loss: 2.0288 - accuracy: 0.2269 - val_loss: 1.7500 - val_accuracy: 0.3518 - 113s/epoch - 72ms/step\n",
      "Epoch 2/120\n",
      "1562/1562 - 109s - loss: 1.8063 - accuracy: 0.3164 - val_loss: 1.6647 - val_accuracy: 0.3774 - 109s/epoch - 70ms/step\n",
      "Epoch 3/120\n",
      "1562/1562 - 106s - loss: 1.7164 - accuracy: 0.3598 - val_loss: 1.5189 - val_accuracy: 0.4472 - 106s/epoch - 68ms/step\n",
      "Epoch 4/120\n",
      "1562/1562 - 104s - loss: 1.6542 - accuracy: 0.3872 - val_loss: 1.4847 - val_accuracy: 0.4528 - 104s/epoch - 67ms/step\n",
      "Epoch 5/120\n",
      "1562/1562 - 110s - loss: 1.5984 - accuracy: 0.4136 - val_loss: 1.4337 - val_accuracy: 0.4772 - 110s/epoch - 70ms/step\n",
      "Epoch 6/120\n",
      "1562/1562 - 114s - loss: 1.5597 - accuracy: 0.4289 - val_loss: 1.3705 - val_accuracy: 0.4969 - 114s/epoch - 73ms/step\n",
      "Epoch 7/120\n",
      "1562/1562 - 106s - loss: 1.5272 - accuracy: 0.4396 - val_loss: 1.3530 - val_accuracy: 0.5068 - 106s/epoch - 68ms/step\n",
      "Epoch 8/120\n",
      "1562/1562 - 109s - loss: 1.4879 - accuracy: 0.4616 - val_loss: 1.2976 - val_accuracy: 0.5265 - 109s/epoch - 70ms/step\n",
      "Epoch 9/120\n",
      "1562/1562 - 119s - loss: 1.4495 - accuracy: 0.4724 - val_loss: 1.4036 - val_accuracy: 0.4928 - 119s/epoch - 76ms/step\n",
      "Epoch 10/120\n",
      "1562/1562 - 108s - loss: 1.4249 - accuracy: 0.4818 - val_loss: 1.2905 - val_accuracy: 0.5296 - 108s/epoch - 69ms/step\n",
      "Epoch 11/120\n",
      "1562/1562 - 106s - loss: 1.3917 - accuracy: 0.4953 - val_loss: 1.2375 - val_accuracy: 0.5498 - 106s/epoch - 68ms/step\n",
      "Epoch 12/120\n",
      "1562/1562 - 111s - loss: 1.3724 - accuracy: 0.5036 - val_loss: 1.2224 - val_accuracy: 0.5544 - 111s/epoch - 71ms/step\n",
      "Epoch 13/120\n",
      "1562/1562 - 119s - loss: 1.3504 - accuracy: 0.5104 - val_loss: 1.2532 - val_accuracy: 0.5437 - 119s/epoch - 76ms/step\n",
      "Epoch 14/120\n",
      "1562/1562 - 100s - loss: 1.3330 - accuracy: 0.5188 - val_loss: 1.2387 - val_accuracy: 0.5520 - 100s/epoch - 64ms/step\n",
      "Epoch 15/120\n",
      "1562/1562 - 99s - loss: 1.3102 - accuracy: 0.5272 - val_loss: 1.2526 - val_accuracy: 0.5461 - 99s/epoch - 63ms/step\n",
      "Epoch 16/120\n",
      "1562/1562 - 96s - loss: 1.2904 - accuracy: 0.5337 - val_loss: 1.1581 - val_accuracy: 0.5845 - 96s/epoch - 61ms/step\n",
      "Epoch 17/120\n",
      "1562/1562 - 100s - loss: 1.2672 - accuracy: 0.5419 - val_loss: 1.1608 - val_accuracy: 0.5835 - 100s/epoch - 64ms/step\n",
      "Epoch 18/120\n"
     ]
    }
   ],
   "source": [
    "for i in range(2):\n",
    "    model = tf.keras.Sequential([\n",
    "        tf.keras.layers.Conv2D(16,(5,5),padding = 'SAME', activation = 'relu', input_shape=(32,32,3)),\n",
    "        tf.keras.layers.MaxPooling2D(pool_size = (2,2) ,padding = 'SAME'),\n",
    "\n",
    "        tf.keras.layers.Conv2D(64,(5,5),(2,2),padding = 'SAME', activation = 'relu'),\n",
    "        tf.keras.layers.MaxPooling2D(pool_size = (2,2) ,padding = 'SAME'),\n",
    "\n",
    "        tf.keras.layers.Conv2D(80,(5,5),(3,3),padding = 'SAME', activation = 'relu'),\n",
    "        tf.keras.layers.MaxPooling2D(pool_size = (2,2) ,padding = 'SAME'),\n",
    "\n",
    "        tf.keras.layers.Conv2D(128,(5,5),(4,4),padding = 'SAME', activation = 'relu'),\n",
    "\n",
    "        tf.keras.layers.Flatten(),\n",
    "\n",
    "        tf.keras.layers.Dense(256, activation = 'relu'),\n",
    "        tf.keras.layers.Dropout(0.3),\n",
    "\n",
    "        tf.keras.layers.Dense(128, activation = 'relu'),\n",
    "        tf.keras.layers.Dropout(0.2),\n",
    "\n",
    "        tf.keras.layers.Dense(10, activation = 'softmax')\n",
    "    ])\n",
    "\n",
    "    opt = tf.keras.optimizers.Adam(learning_rate = 0.0001)\n",
    "    model.compile(optimizer=opt, loss='categorical_crossentropy', metrics=['accuracy'])\n",
    "\n",
    "    if(i==0):\n",
    "      print(\"\\n\")\n",
    "      print(\"Training model before Data Augmentation\\n\")\n",
    "      m1 = model.fit(train_x, y_train,\n",
    "                    batch_size=32,\n",
    "                    epochs=20,\n",
    "                    steps_per_epoch = train_x.shape[0] // 32,\n",
    "                    verbose=2,\n",
    "                    validation_data=(val_x, y_val),\n",
    "                    shuffle = True)\n",
    "      plot_analysis(m1)\n",
    "\n",
    "    else:\n",
    "      print(\"\\n\")\n",
    "      print(\"Training model after Data Augmentation\\n\")\n",
    "      datagen = tf.keras.preprocessing.image.ImageDataGenerator(featurewise_center=False,  # set input mean to 0 over the dataset\n",
    "                                                          samplewise_center=False,  # set each sample mean to 0\n",
    "                                                          featurewise_std_normalization=False,  # divide inputs by std of the dataset\n",
    "                                                          samplewise_std_normalization=False,  # divide each input by its std\n",
    "                                                          zca_whitening=False,  # apply ZCA whitening\n",
    "                                                          rotation_range=10,  # randomly rotate images in the range (degrees, 0 to 180)\n",
    "                                                          width_shift_range=0.2,  # randomly shift images horizontally (fraction of total width)\n",
    "                                                          height_shift_range=0.2,  # randomly shift images vertically (fraction of total height)\n",
    "                                                          horizontal_flip=True,  # randomly flip images\n",
    "                                                          vertical_flip=False)  # randomly flip images\n",
    "\n",
    "\n",
    "      datagen.fit(train_x)\n",
    "      m2    =   model.fit_generator(datagen.flow(train_x, y_train, batch_size=32),\n",
    "                                  steps_per_epoch=train_x.shape[0] // 32,\n",
    "                                  epochs=120,\n",
    "                                  verbose = 2,\n",
    "                                  validation_data=(val_x, y_val),\n",
    "                                  shuffle = True)\n",
    "      plot_analysis(m2)\n"
   ]
  },
  {
   "cell_type": "code",
   "execution_count": null,
   "id": "b21ef7e4",
   "metadata": {},
   "outputs": [],
   "source": []
  }
 ],
 "metadata": {
  "colab": {
   "provenance": [
    {
     "file_id": "1zS0OCAVfwqyb7XNfOm4MAfacmijwcvck",
     "timestamp": 1696150449508
    }
   ]
  },
  "kernelspec": {
   "display_name": "Python 3 (ipykernel)",
   "language": "python",
   "name": "python3"
  },
  "language_info": {
   "codemirror_mode": {
    "name": "ipython",
    "version": 3
   },
   "file_extension": ".py",
   "mimetype": "text/x-python",
   "name": "python",
   "nbconvert_exporter": "python",
   "pygments_lexer": "ipython3",
   "version": "3.9.12"
  }
 },
 "nbformat": 4,
 "nbformat_minor": 5
}
